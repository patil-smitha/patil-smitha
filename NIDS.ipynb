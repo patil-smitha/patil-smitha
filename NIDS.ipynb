{
  "nbformat": 4,
  "nbformat_minor": 0,
  "metadata": {
    "colab": {
      "provenance": [],
      "include_colab_link": true
    },
    "kernelspec": {
      "name": "python3",
      "display_name": "Python 3"
    },
    "language_info": {
      "name": "python"
    }
  },
  "cells": [
    {
      "cell_type": "markdown",
      "metadata": {
        "id": "view-in-github",
        "colab_type": "text"
      },
      "source": [
        "<a href=\"https://colab.research.google.com/github/patil-smitha/patil-smitha/blob/main/NIDS.ipynb\" target=\"_parent\"><img src=\"https://colab.research.google.com/assets/colab-badge.svg\" alt=\"Open In Colab\"/></a>"
      ]
    },
    {
      "cell_type": "code",
      "execution_count": null,
      "metadata": {
        "colab": {
          "base_uri": "https://localhost:8080/"
        },
        "id": "2lpqXuZ6oEYI",
        "outputId": "6077557a-107f-4377-f6b3-7e4ab2dd6cbb"
      },
      "outputs": [
        {
          "output_type": "stream",
          "name": "stdout",
          "text": [
            "Drive already mounted at /content/drive; to attempt to forcibly remount, call drive.mount(\"/content/drive\", force_remount=True).\n"
          ]
        }
      ],
      "source": [
        "from google.colab import drive\n",
        "import pandas as pd\n",
        "import numpy as np\n",
        "from sklearn.preprocessing import (StandardScaler, OrdinalEncoder,LabelEncoder, MinMaxScaler, OneHotEncoder)\n",
        "!pip install -q keras\n",
        "from tensorflow.keras.utils import to_categorical\n",
        "from sklearn.naive_bayes import GaussianNB\n",
        "from sklearn.feature_extraction.text import CountVectorizer\n",
        "from sklearn.preprocessing import Normalizer, MaxAbsScaler , RobustScaler, PowerTransformer\n",
        "import matplotlib.pyplot as plt\n",
        "import seaborn as sns\n",
        "\n",
        "\n",
        "\n",
        "\n",
        "drive.mount('/content/drive')"
      ]
    },
    {
      "cell_type": "code",
      "source": [
        "train='/content/drive/My Drive/Datasets/NSL-KDD/nsl-kdd/KDDTrain+.txt'\n",
        "test='/content/drive/My Drive/Datasets/NSL-KDD/nsl-kdd/KDDTest+.txt'\n",
        "test21='/content/drive/My Drive/Datasets/NSL-KDD/nsl-kdd/KDDTest-21.txt'\n",
        "\n",
        "featureV=[\"duration\",\"protocol_type\",\"service\",\"flag\",\"src_bytes\",\"dst_bytes\",\"land\",\"wrong_fragment\",\"urgent\",\"hot\",\n",
        "          \"num_failed_logins\",\"logged_in\",\"num_compromised\",\"root_shell\",\"su_attempted\",\"num_root\",\"num_file_creations\",\"num_shells\",\n",
        "          \"num_access_files\",\"num_outbound_cmds\",\"is_host_login\",\"is_guest_login\",\"count\",\"srv_count\",\"serror_rate\",\"srv_serror_rate\",\n",
        "          \"rerror_rate\",\"srv_rerror_rate\",\"same_srv_rate\",\"diff_srv_rate\",\"srv_diff_host_rate\",\"dst_host_count\",\"dst_host_srv_count\", \n",
        "          \"dst_host_same_srv_rate\",\"dst_host_diff_srv_rate\",\"dst_host_same_src_port_rate\",\"dst_host_srv_diff_host_rate\",\"dst_host_serror_rate\",\n",
        "          \"dst_host_srv_serror_rate\",\"dst_host_rerror_rate\",\"dst_host_srv_rerror_rate\",\"label\",\"difficulty\"]\n",
        "\n",
        "flagV=['OTH','RSTOS0','SF','SH','RSTO','S2','S1','REJ','S3','RSTR','S0']\n",
        "\n",
        "protocol_typeV=['tcp','udp','icmp']\n",
        "\n",
        "serviceV=['http','smtp','finger','domain_u','auth','telnet','ftp','eco_i','ntp_u','ecr_i','other','private','pop_3','ftp_data',\n",
        "                  'rje','time','mtp','link','remote_job','gopher','ssh','name','whois','domain','login','imap4','daytime','ctf','nntp',\n",
        "                  'shell','IRC','nnsp','http_443','exec','printer','efs','courier','uucp','klogin','kshell','echo','discard','systat',\n",
        "                  'supdup','iso_tsap','hostnames','csnet_ns','pop_2','sunrpc','uucp_path','netbios_ns','netbios_ssn','netbios_dgm',\n",
        "                  'sql_net','vmnet','bgp','Z39_50','ldap','netstat','urh_i','X11','urp_i','pm_dump','tftp_u','tim_i','red_i','icmp',\n",
        "                  'http_2784','harvest','aol','http_8001']\n",
        "\n",
        "binary_attack=['normal','ipsweep', 'nmap', 'portsweep','satan', 'saint', 'mscan','back', 'land', 'neptune', 'pod', 'smurf',\n",
        "               'teardrop', 'apache2', 'udpstorm', 'processtable','mailbomb','buffer_overflow', 'loadmodule', 'perl', 'rootkit',\n",
        "               'xterm', 'ps', 'sqlattack','ftp_write', 'guess_passwd', 'imap', 'multihop','phf', 'spy', 'warezclient',\n",
        "               'warezmaster','snmpgetattack','named', 'xlock', 'xsnoop','sendmail', 'httptunnel', 'worm', 'snmpguess']\n",
        "\n",
        "multiclass_attack={ 'normal': 'normal',\n",
        "        'probe': ['ipsweep.', 'nmap.', 'portsweep.','satan.', 'saint.', 'mscan.'],\n",
        "        'dos': ['back.', 'land.', 'neptune.', 'pod.', 'smurf.','teardrop.', 'apache2.', 'udpstorm.', 'processtable.','mailbomb.'],\n",
        "        'u2r': ['buffer_overflow.', 'loadmodule.', 'perl.', 'rootkit.','xterm.', 'ps.', 'sqlattack.'],\n",
        "        'r2l': ['ftp_write.', 'guess_passwd.', 'imap.', 'multihop.','phf.', 'spy.', 'warezclient.', 'warezmaster.','snmpgetattack.',\n",
        "                   'named.', 'xlock.', 'xsnoop.','sendmail.', 'httptunnel.', 'worm.', 'snmpguess.']}                   "
      ],
      "metadata": {
        "id": "ks0Yizv0phW1"
      },
      "execution_count": null,
      "outputs": []
    },
    {
      "cell_type": "code",
      "source": [
        "from google.colab import drive\n",
        "drive.mount('/gdrive')\n",
        "%cd /gdrive/My\\ Drive/"
      ],
      "metadata": {
        "colab": {
          "base_uri": "https://localhost:8080/"
        },
        "id": "t8t5PjKfwnbb",
        "outputId": "2deedc7b-578c-4ef0-fe9a-95c8f3098fb7"
      },
      "execution_count": null,
      "outputs": [
        {
          "output_type": "stream",
          "name": "stdout",
          "text": [
            "Mounted at /gdrive\n",
            "/gdrive/My Drive\n"
          ]
        }
      ]
    },
    {
      "cell_type": "code",
      "source": [
        "import os\n",
        "#os.listdir()\n",
        "dataset_root = os.path.join(os.getcwd(),'Datasets/NSL-KDD')"
      ],
      "metadata": {
        "id": "SjDSOL8Mw2SC"
      },
      "execution_count": null,
      "outputs": []
    },
    {
      "cell_type": "code",
      "source": [
        "train_data = os.path.join(dataset_root, 'KDDTrain+.txt')\n",
        "test_data= os.path.join(dataset_root, 'KDDTest+.txt')"
      ],
      "metadata": {
        "id": "9yI-TQuDxBQq"
      },
      "execution_count": null,
      "outputs": []
    },
    {
      "cell_type": "code",
      "source": [
        "import pandas as pd\n",
        "test = '/content/drive/MyDrive/Untitled folder/Untitled folder/KDDTest+.txt'\n",
        "train = '/content/drive/MyDrive/Untitled folder/Untitled folder/KDDTrain+.txt'\n",
        "train_data=pd.read_csv(train,names=featureV)\n",
        "test_data=pd.read_csv(test,names=featureV)"
      ],
      "metadata": {
        "id": "qc54IEo7sScG"
      },
      "execution_count": null,
      "outputs": []
    },
    {
      "cell_type": "code",
      "source": [
        "test21 = '/content/drive/MyDrive/Untitled folder/Untitled folder/KDDTest-21.txt'\n",
        "test_21 = pd.read_csv(test21, names= featureV)"
      ],
      "metadata": {
        "id": "CtRKP-yBwHyU"
      },
      "execution_count": null,
      "outputs": []
    },
    {
      "cell_type": "code",
      "source": [
        "train_data = train_data.query(\"service != 'aol'\")\n",
        "train_data = train_data.query(\"service != 'harvest'\")\n",
        "train_data = train_data.query(\"service != 'http_2784'\")\n",
        "train_data = train_data.query(\"service != 'http_8001'\")\n",
        "train_data = train_data.query(\"service != 'red_i'\")\n",
        "train_data = train_data.query(\"service != 'urh_i'\")\n",
        "train_data = train_data.query(\"service != 'printer'\")\n",
        "train_data = train_data.query(\"service != 'rje'\")\n",
        "\n",
        "\n",
        "#-------------------------------------------------------------------------------->>>>\n",
        "\n",
        "test_data = test_data.query(\"service != 'printer'\")\n",
        "test_data = test_data.query(\"service != 'rje'\")"
      ],
      "metadata": {
        "id": "YUV9rqozUKsT"
      },
      "execution_count": null,
      "outputs": []
    },
    {
      "cell_type": "code",
      "source": [
        "def bar_graph(feature):\n",
        "    train_data[feature].value_counts().plot(kind=\"bar\")"
      ],
      "metadata": {
        "id": "lMF9sE4qU1BC"
      },
      "execution_count": null,
      "outputs": []
    },
    {
      "cell_type": "code",
      "source": [
        "bar_graph('protocol_type')"
      ],
      "metadata": {
        "colab": {
          "base_uri": "https://localhost:8080/",
          "height": 280
        },
        "id": "jCkYGERXU57d",
        "outputId": "1bc3e23b-6a9e-4aa2-ab5b-24baa077fa45"
      },
      "execution_count": null,
      "outputs": [
        {
          "output_type": "display_data",
          "data": {
            "text/plain": [
              "<Figure size 432x288 with 1 Axes>"
            ],
            "image/png": "[encoded data removed]"
          },
          "metadata": {
            "needs_background": "light"
          }
        }
      ]
    },
    {
      "cell_type": "code",
      "source": [
        "plt.figure(figsize=(15,3))\n",
        "bar_graph('service')"
      ],
      "metadata": {
        "colab": {
          "base_uri": "https://localhost:8080/",
          "height": 265
        },
        "id": "e2yKv3VRU-LU",
        "outputId": "3319d14b-756d-41d5-8ff3-c9e588dc923a"
      },
      "execution_count": null,
      "outputs": [
        {
          "output_type": "display_data",
          "data": {
            "text/plain": [
              "<Figure size 1080x216 with 1 Axes>"
            ],
            "image/png": "[encoded data removed]"
          },
          "metadata": {
            "needs_background": "light"
          }
        }
      ]
    },
    {
      "cell_type": "code",
      "source": [
        "bar_graph('flag')"
      ],
      "metadata": {
        "colab": {
          "base_uri": "https://localhost:8080/",
          "height": 295
        },
        "id": "IIo5UgVJU_ex",
        "outputId": "d17b4681-da88-4c9c-9b24-bf2bc2a4f22a"
      },
      "execution_count": null,
      "outputs": [
        {
          "output_type": "display_data",
          "data": {
            "text/plain": [
              "<Figure size 432x288 with 1 Axes>"
            ],
            "image/png": "[encoded data removed]"
          },
          "metadata": {
            "needs_background": "light"
          }
        }
      ]
    },
    {
      "cell_type": "code",
      "source": [
        "bar_graph('logged_in')"
      ],
      "metadata": {
        "colab": {
          "base_uri": "https://localhost:8080/",
          "height": 262
        },
        "id": "akk85SgAU-kd",
        "outputId": "ec47eed5-a36d-46d5-d0f0-750b33e5ff99"
      },
      "execution_count": null,
      "outputs": [
        {
          "output_type": "display_data",
          "data": {
            "text/plain": [
              "<Figure size 432x288 with 1 Axes>"
            ],
            "image/png": "[encoded data removed]"
          },
          "metadata": {
            "needs_background": "light"
          }
        }
      ]
    },
    {
      "cell_type": "code",
      "source": [
        "bar_graph('label')"
      ],
      "metadata": {
        "colab": {
          "base_uri": "https://localhost:8080/",
          "height": 335
        },
        "id": "Lrqoa8-rVPFg",
        "outputId": "af25c667-972f-40dd-bbc9-6895aaa66d50"
      },
      "execution_count": null,
      "outputs": [
        {
          "output_type": "display_data",
          "data": {
            "text/plain": [
              "<Figure size 432x288 with 1 Axes>"
            ],
            "image/png": "[encoded data removed]"
          },
          "metadata": {
            "needs_background": "light"
          }
        }
      ]
    },
    {
      "cell_type": "code",
      "source": [
        "def preprocessing(data,cls,df):\n",
        "  \n",
        "#----------attack categorization----------------->\n",
        "  data['label']=data['label'].replace(['normal.','normal'],0)\n",
        "\n",
        "#----------------------binary classification--------------------->\n",
        "  if cls=='binary':\n",
        "    for i in range(len(binary_attack)):\n",
        "      data['label'] = data['label'].replace(binary_attack[i], 1)\n",
        "  \n",
        "#---------------multiclass classification-------------------->  \n",
        "  elif cls=='multiclass':\n",
        "    for i in range(len(multiclass_attack['probe'])):\n",
        "      data['label']=data['label'].replace([multiclass_attack['probe'][i],multiclass_attack['probe'][i][:-1]],1)\n",
        "    \n",
        "    for i in range(len(multiclass_attack['dos'])):\n",
        "      data['label']=data['label'].replace([multiclass_attack['dos'][i],multiclass_attack['dos'][i][:-1]],2)\n",
        "    \n",
        "    for i in range(len(multiclass_attack['u2r'])):\n",
        "      data['label']=data['label'].replace([multiclass_attack['u2r'][i],multiclass_attack['u2r'][i][:-1]],3)\n",
        "    \n",
        "    for i in range(len(multiclass_attack['r2l'])):\n",
        "      data['label'] = data['label'].replace([multiclass_attack['r2l'][i],multiclass_attack['r2l'][i][:-1]],4)\n",
        "      #-------------------------splitting features and labels---------------->\n",
        "  y=data['label']\n",
        "  x=data.loc[:,'duration':'hot']\n",
        "#---------------------------------------------------------------------->\n",
        "\n",
        "\n",
        "#-----------------------------------converting string objects to int------------------------>\n",
        "  #for i in range(len(protocol_typeV)):\n",
        "   # x['protocol_type'] = x['protocol_type'].replace(protocol_typeV[i], i)\n",
        "  \n",
        "  #for i in range(len(serviceV)):\n",
        "   # x['service'] = x['service'].replace(serviceV[i], i+1)\n",
        "\n",
        "  #for i in range(len(flagV)):\n",
        "   # x['flag'] = x['flag'].replace(flagV[i], i+1)\n",
        "#------------------------------------------------------------------------------------------->\n",
        "\n",
        "#-----------------converting to binary feature vectors-------------------------------------->  \n",
        "  t=x.protocol_type.copy()\n",
        "  t=pd.get_dummies(t)\n",
        "  x=x.drop(columns='protocol_type',axis=1)\n",
        "  x=x.join(t)\n",
        "\n",
        "  t1=x.service.copy()\n",
        "  t1=pd.get_dummies(t1)\n",
        "  x=x.drop(columns='service',axis=1)\n",
        "  x=x.join(t1)\n",
        "\n",
        "  t2=x.flag.copy()\n",
        "  t2=pd.get_dummies(t2)\n",
        "  x=x.drop(columns='flag',axis=1)\n",
        "  x=x.join(t2)\n",
        "  #-----------------converting to binary label vectors--------------------------------------> \n",
        "  yt=y.copy()\n",
        "  yt=pd.get_dummies(yt)\n",
        "#------------------------------------------------------------------------------>\n",
        "\n",
        "  x = MinMaxScaler(feature_range=(0, 1)).fit_transform(x)\n",
        "  # x = MaxAbsScaler().fit_transform(x)\n",
        "  # x = StandardScaler().fit_transform(x)\n",
        "  #print(x)\n",
        "  #vectorizer = CountVectorizer()\n",
        "  #p= vectorizer.fit_transform(x.protocol_type)\n",
        "\n",
        "  #print(np.shape(p))\n",
        "  #scaler = Normalizer(norm='l1').fit(x)\n",
        "  #trainX = scaler.transform(x)\n",
        "  if df=='train':\n",
        "    return x,yt\n",
        "  else:\n",
        "    return x,y  "
      ],
      "metadata": {
        "id": "zSpqRGp8VO6J"
      },
      "execution_count": null,
      "outputs": []
    },
    {
      "cell_type": "code",
      "source": [
        "x_train,Y_train=preprocessing(train_data,cls='binary',df='train')\n",
        "x_test,Y_test=preprocessing(test_data,cls='binary',df='test')"
      ],
      "metadata": {
        "id": "ppu_YEthVOtA"
      },
      "execution_count": null,
      "outputs": []
    },
    {
      "cell_type": "code",
      "source": [
        "x_21_test, y_21_test = preprocessing(test_21, cls = 'binary', df = 'test21')"
      ],
      "metadata": {
        "id": "Do7MqEI5VOc9"
      },
      "execution_count": null,
      "outputs": []
    },
    {
      "cell_type": "code",
      "source": [
        "print(np.shape(x_train))\n",
        "print(np.shape(Y_train))\n",
        "print(np.shape(x_test))\n",
        "print(np.shape(Y_test))\n",
        "print(np.shape(x_21_test))\n",
        "print(np.shape(y_21_test))"
      ],
      "metadata": {
        "colab": {
          "base_uri": "https://localhost:8080/"
        },
        "id": "zNq6AyEKVsKB",
        "outputId": "6e837d04-a194-4858-b435-0491d8e4d135"
      },
      "execution_count": null,
      "outputs": [
        {
          "output_type": "stream",
          "name": "stdout",
          "text": [
            "(125793, 83)\n",
            "(125793, 2)\n",
            "(22525, 83)\n",
            "(22525,)\n",
            "(11850, 83)\n",
            "(11850,)\n"
          ]
        }
      ]
    },
    {
      "cell_type": "code",
      "source": [
        "x_train = np.reshape(x_train, (x_train.shape[0], x_train.shape[1], 1))\n",
        "x_train.shape"
      ],
      "metadata": {
        "colab": {
          "base_uri": "https://localhost:8080/"
        },
        "id": "qUbRbALhWuW5",
        "outputId": "953be00a-4cad-41f3-e1e3-3a3d0d3f8a57"
      },
      "execution_count": null,
      "outputs": [
        {
          "output_type": "execute_result",
          "data": {
            "text/plain": [
              "(125793, 83, 1)"
            ]
          },
          "metadata": {},
          "execution_count": 18
        }
      ]
    },
    {
      "cell_type": "code",
      "source": [
        "x_test = np.reshape(x_test, (x_test.shape[0], x_test.shape[1], 1))\n",
        "x_test.shape"
      ],
      "metadata": {
        "colab": {
          "base_uri": "https://localhost:8080/"
        },
        "id": "N0dF2It3Wyzn",
        "outputId": "5d7aaf7c-ccd4-4c94-da17-0f0e397b6e41"
      },
      "execution_count": null,
      "outputs": [
        {
          "output_type": "execute_result",
          "data": {
            "text/plain": [
              "(22525, 83, 1)"
            ]
          },
          "metadata": {},
          "execution_count": 19
        }
      ]
    },
    {
      "cell_type": "code",
      "source": [
        "x_21_test = np.reshape(x_21_test, (x_21_test.shape[0], x_21_test.shape[1], 1))\n",
        "x_21_test.shape"
      ],
      "metadata": {
        "colab": {
          "base_uri": "https://localhost:8080/"
        },
        "id": "Lib4cJxrW1nk",
        "outputId": "e5414f48-19ab-45b7-f46e-de99aca21e6a"
      },
      "execution_count": null,
      "outputs": [
        {
          "output_type": "execute_result",
          "data": {
            "text/plain": [
              "(11850, 83, 1)"
            ]
          },
          "metadata": {},
          "execution_count": 20
        }
      ]
    },
    {
      "cell_type": "code",
      "source": [
        "from keras.models import Sequential\n",
        "from keras.layers import Dense, LSTM, Dropout, SimpleRNN , GRU , Activation\n",
        "from tensorflow.keras.layers import BatchNormalization\n",
        "from keras import optimizers\n",
        "import tensorflow as tf\n",
        "from keras.layers import Convolution1D, Dense, Dropout, Flatten, MaxPooling1D , AveragePooling1D"
      ],
      "metadata": {
        "id": "bz7CC8huXKhK"
      },
      "execution_count": null,
      "outputs": []
    },
    {
      "cell_type": "code",
      "source": [
        "model = Sequential()\n",
        "\n",
        "model.add(Convolution1D(32, 3, padding=\"same\",activation=\"relu\",input_shape = (x_train.shape[1], 1)))\n",
        "# model.add(Convolution1D(32, 3, activation=\"relu\"))\n",
        "model.add(MaxPooling1D(pool_size=(4)))\n",
        "# model.add(tf.keras.layers.LayerNormalization())\n",
        "# model.add(GRU(units = 128, return_sequences=True, input_shape = (x_train.shape[1], 1)))\n",
        "model.add(Dropout(0.5))\n",
        "\n",
        "model.add(Convolution1D(64, 3, padding=\"same\",activation=\"relu\"))\n",
        "# model.add(Convolution1D(64, 3,activation=\"relu\"))\n",
        "model.add(MaxPooling1D(pool_size=(2)))\n",
        "model.add(Dropout(0.5))\n",
        "# model.add(tf.keras.layers.LayerNormalization())\n",
        "\n",
        "# model.add(Convolution1D(64, 3, padding=\"same\",activation=\"relu\"))\n",
        "# model.add(Convolution1D(64, 3,activation=\"relu\"))\n",
        "# model.add(AveragePooling1D(pool_size=(2)))\n",
        "# model.add(Dropout(0.2))\n",
        "\n",
        "model.add(Flatten())\n",
        "model.add(Dense(256, activation=\"relu\"))\n",
        "model.add(Dropout(0.5))\n",
        "model.add(Dense(2, activation=\"softmax\"))"
      ],
      "metadata": {
        "id": "612RhmJiXmWo"
      },
      "execution_count": null,
      "outputs": []
    },
    {
      "cell_type": "code",
      "source": [
        "from sklearn.model_selection import cross_validate\n",
        "from sklearn.model_selection import train_test_split"
      ],
      "metadata": {
        "id": "Lp8M9NPdXru7"
      },
      "execution_count": null,
      "outputs": []
    },
    {
      "cell_type": "code",
      "source": [
        "# tf.keras.optimizers.Adam(\n",
        "#     learning_rate=0.001, beta_1=0.9, beta_2=0.999, epsilon=1e-07, amsgrad=False)\n",
        "# train_op = tf.keras.optimizers.adam(amsgrad=True)\n",
        "model.compile(optimizer ='adam',loss = 'categorical_crossentropy', metrics = ['accuracy'])\n",
        "model.fit(x_train, Y_train, epochs = 100, batch_size = 128)"
      ],
      "metadata": {
        "colab": {
          "base_uri": "https://localhost:8080/"
        },
        "id": "mibp4QbLXv58",
        "outputId": "3e76121d-5d77-499d-9ad5-b4b893329086"
      },
      "execution_count": null,
      "outputs": [
        {
          "output_type": "stream",
          "name": "stdout",
          "text": [
            "Epoch 1/100\n",
            "983/983 [==============================] - 16s 15ms/step - loss: 0.1782 - accuracy: 0.9408\n",
            "Epoch 2/100\n",
            "983/983 [==============================] - 15s 15ms/step - loss: 0.1517 - accuracy: 0.9524\n",
            "Epoch 3/100\n",
            "983/983 [==============================] - 15s 15ms/step - loss: 0.1450 - accuracy: 0.9540\n",
            "Epoch 4/100\n",
            "983/983 [==============================] - 15s 15ms/step - loss: 0.1429 - accuracy: 0.9540\n",
            "Epoch 5/100\n",
            "983/983 [==============================] - 16s 17ms/step - loss: 0.1394 - accuracy: 0.9548\n",
            "Epoch 6/100\n",
            "983/983 [==============================] - 15s 15ms/step - loss: 0.1350 - accuracy: 0.9552\n",
            "Epoch 7/100\n",
            "983/983 [==============================] - 15s 16ms/step - loss: 0.1300 - accuracy: 0.9556\n",
            "Epoch 8/100\n",
            "983/983 [==============================] - 16s 17ms/step - loss: 0.1264 - accuracy: 0.9556\n",
            "Epoch 9/100\n",
            "983/983 [==============================] - 15s 15ms/step - loss: 0.1265 - accuracy: 0.9557\n",
            "Epoch 10/100\n",
            "983/983 [==============================] - 15s 15ms/step - loss: 0.1258 - accuracy: 0.9559\n",
            "Epoch 11/100\n",
            "983/983 [==============================] - 15s 15ms/step - loss: 0.1228 - accuracy: 0.9564\n",
            "Epoch 12/100\n",
            "983/983 [==============================] - 15s 15ms/step - loss: 0.1204 - accuracy: 0.9560\n",
            "Epoch 13/100\n",
            "983/983 [==============================] - 15s 15ms/step - loss: 0.1187 - accuracy: 0.9564\n",
            "Epoch 14/100\n",
            "983/983 [==============================] - 15s 15ms/step - loss: 0.1188 - accuracy: 0.9565\n",
            "Epoch 15/100\n",
            "983/983 [==============================] - 15s 15ms/step - loss: 0.1183 - accuracy: 0.9565\n",
            "Epoch 16/100\n",
            "983/983 [==============================] - 15s 15ms/step - loss: 0.1186 - accuracy: 0.9562\n",
            "Epoch 17/100\n",
            "983/983 [==============================] - 15s 15ms/step - loss: 0.1174 - accuracy: 0.9566\n",
            "Epoch 18/100\n",
            "983/983 [==============================] - 15s 15ms/step - loss: 0.1166 - accuracy: 0.9571\n",
            "Epoch 19/100\n",
            "983/983 [==============================] - 15s 15ms/step - loss: 0.1163 - accuracy: 0.9568\n",
            "Epoch 20/100\n",
            "983/983 [==============================] - 15s 15ms/step - loss: 0.1159 - accuracy: 0.9576\n",
            "Epoch 21/100\n",
            "983/983 [==============================] - 15s 15ms/step - loss: 0.1147 - accuracy: 0.9580\n",
            "Epoch 22/100\n",
            "983/983 [==============================] - 15s 15ms/step - loss: 0.1145 - accuracy: 0.9587\n",
            "Epoch 23/100\n",
            "983/983 [==============================] - 15s 15ms/step - loss: 0.1144 - accuracy: 0.9586\n",
            "Epoch 24/100\n",
            "983/983 [==============================] - 15s 15ms/step - loss: 0.1133 - accuracy: 0.9595\n",
            "Epoch 25/100\n",
            "983/983 [==============================] - 15s 15ms/step - loss: 0.1129 - accuracy: 0.9591\n",
            "Epoch 26/100\n",
            "983/983 [==============================] - 15s 15ms/step - loss: 0.1126 - accuracy: 0.9593\n",
            "Epoch 27/100\n",
            "983/983 [==============================] - 15s 15ms/step - loss: 0.1121 - accuracy: 0.9595\n",
            "Epoch 28/100\n",
            "983/983 [==============================] - 16s 16ms/step - loss: 0.1122 - accuracy: 0.9600\n",
            "Epoch 29/100\n",
            "983/983 [==============================] - 16s 16ms/step - loss: 0.1125 - accuracy: 0.9597\n",
            "Epoch 30/100\n",
            "983/983 [==============================] - 15s 15ms/step - loss: 0.1116 - accuracy: 0.9602\n",
            "Epoch 31/100\n",
            "983/983 [==============================] - 15s 15ms/step - loss: 0.1118 - accuracy: 0.9598\n",
            "Epoch 32/100\n",
            "983/983 [==============================] - 15s 15ms/step - loss: 0.1110 - accuracy: 0.9603\n",
            "Epoch 33/100\n",
            "983/983 [==============================] - 15s 15ms/step - loss: 0.1122 - accuracy: 0.9598\n",
            "Epoch 34/100\n",
            "983/983 [==============================] - 15s 15ms/step - loss: 0.1103 - accuracy: 0.9604\n",
            "Epoch 35/100\n",
            "983/983 [==============================] - 15s 15ms/step - loss: 0.1111 - accuracy: 0.9601\n",
            "Epoch 36/100\n",
            "983/983 [==============================] - 15s 15ms/step - loss: 0.1117 - accuracy: 0.9596\n",
            "Epoch 37/100\n",
            "983/983 [==============================] - 15s 15ms/step - loss: 0.1117 - accuracy: 0.9600\n",
            "Epoch 38/100\n",
            "983/983 [==============================] - 15s 15ms/step - loss: 0.1115 - accuracy: 0.9604\n",
            "Epoch 39/100\n",
            "983/983 [==============================] - 15s 15ms/step - loss: 0.1102 - accuracy: 0.9604\n",
            "Epoch 40/100\n",
            "983/983 [==============================] - 15s 15ms/step - loss: 0.1115 - accuracy: 0.9599\n",
            "Epoch 41/100\n",
            "983/983 [==============================] - 15s 16ms/step - loss: 0.1113 - accuracy: 0.9599\n",
            "Epoch 42/100\n",
            "983/983 [==============================] - 15s 15ms/step - loss: 0.1111 - accuracy: 0.9600\n",
            "Epoch 43/100\n",
            "983/983 [==============================] - 15s 15ms/step - loss: 0.1108 - accuracy: 0.9601\n",
            "Epoch 44/100\n",
            "983/983 [==============================] - 15s 16ms/step - loss: 0.1110 - accuracy: 0.9604\n",
            "Epoch 45/100\n",
            "983/983 [==============================] - 15s 15ms/step - loss: 0.1102 - accuracy: 0.9606\n",
            "Epoch 46/100\n",
            "983/983 [==============================] - 15s 15ms/step - loss: 0.1103 - accuracy: 0.9601\n",
            "Epoch 47/100\n",
            "983/983 [==============================] - 15s 16ms/step - loss: 0.1111 - accuracy: 0.9601\n",
            "Epoch 48/100\n",
            "983/983 [==============================] - 15s 15ms/step - loss: 0.1102 - accuracy: 0.9601\n",
            "Epoch 49/100\n",
            "983/983 [==============================] - 15s 15ms/step - loss: 0.1104 - accuracy: 0.9605\n",
            "Epoch 50/100\n",
            "983/983 [==============================] - 15s 15ms/step - loss: 0.1098 - accuracy: 0.9605\n",
            "Epoch 51/100\n",
            "983/983 [==============================] - 15s 15ms/step - loss: 0.1106 - accuracy: 0.9600\n",
            "Epoch 52/100\n",
            "983/983 [==============================] - 19s 20ms/step - loss: 0.1095 - accuracy: 0.9605\n",
            "Epoch 53/100\n",
            "983/983 [==============================] - 15s 15ms/step - loss: 0.1102 - accuracy: 0.9605\n",
            "Epoch 54/100\n",
            "983/983 [==============================] - 15s 15ms/step - loss: 0.1102 - accuracy: 0.9599\n",
            "Epoch 55/100\n",
            "983/983 [==============================] - 15s 15ms/step - loss: 0.1105 - accuracy: 0.9601\n",
            "Epoch 56/100\n",
            "983/983 [==============================] - 15s 15ms/step - loss: 0.1095 - accuracy: 0.9604\n",
            "Epoch 57/100\n",
            "983/983 [==============================] - 16s 16ms/step - loss: 0.1099 - accuracy: 0.9604\n",
            "Epoch 58/100\n",
            "983/983 [==============================] - 15s 15ms/step - loss: 0.1099 - accuracy: 0.9605\n",
            "Epoch 59/100\n",
            "983/983 [==============================] - 15s 16ms/step - loss: 0.1107 - accuracy: 0.9601\n",
            "Epoch 60/100\n",
            "983/983 [==============================] - 15s 15ms/step - loss: 0.1093 - accuracy: 0.9607\n",
            "Epoch 61/100\n",
            "983/983 [==============================] - 15s 15ms/step - loss: 0.1098 - accuracy: 0.9599\n",
            "Epoch 62/100\n",
            "983/983 [==============================] - 15s 15ms/step - loss: 0.1093 - accuracy: 0.9607\n",
            "Epoch 63/100\n",
            "983/983 [==============================] - 15s 15ms/step - loss: 0.1098 - accuracy: 0.9604\n",
            "Epoch 64/100\n",
            "983/983 [==============================] - 15s 15ms/step - loss: 0.1099 - accuracy: 0.9603\n",
            "Epoch 65/100\n",
            "983/983 [==============================] - 15s 15ms/step - loss: 0.1099 - accuracy: 0.9602\n",
            "Epoch 66/100\n",
            "983/983 [==============================] - 15s 15ms/step - loss: 0.1091 - accuracy: 0.9604\n",
            "Epoch 67/100\n",
            "983/983 [==============================] - 15s 15ms/step - loss: 0.1096 - accuracy: 0.9606\n",
            "Epoch 68/100\n",
            "983/983 [==============================] - 15s 16ms/step - loss: 0.1086 - accuracy: 0.9606\n",
            "Epoch 69/100\n",
            "983/983 [==============================] - 15s 15ms/step - loss: 0.1092 - accuracy: 0.9604\n",
            "Epoch 70/100\n",
            "983/983 [==============================] - 15s 15ms/step - loss: 0.1091 - accuracy: 0.9597\n",
            "Epoch 71/100\n",
            "983/983 [==============================] - 15s 15ms/step - loss: 0.1085 - accuracy: 0.9605\n",
            "Epoch 72/100\n",
            "983/983 [==============================] - 15s 15ms/step - loss: 0.1078 - accuracy: 0.9616\n",
            "Epoch 73/100\n",
            "983/983 [==============================] - 15s 15ms/step - loss: 0.1082 - accuracy: 0.9612\n",
            "Epoch 74/100\n",
            "983/983 [==============================] - 15s 15ms/step - loss: 0.1062 - accuracy: 0.9616\n",
            "Epoch 75/100\n",
            "983/983 [==============================] - 15s 15ms/step - loss: 0.1064 - accuracy: 0.9617\n",
            "Epoch 76/100\n",
            "983/983 [==============================] - 15s 15ms/step - loss: 0.1076 - accuracy: 0.9616\n",
            "Epoch 77/100\n",
            "983/983 [==============================] - 15s 15ms/step - loss: 0.1070 - accuracy: 0.9619\n",
            "Epoch 78/100\n",
            "983/983 [==============================] - 15s 15ms/step - loss: 0.1075 - accuracy: 0.9617\n",
            "Epoch 79/100\n",
            "983/983 [==============================] - 15s 15ms/step - loss: 0.1068 - accuracy: 0.9616\n",
            "Epoch 80/100\n",
            "983/983 [==============================] - 15s 15ms/step - loss: 0.1061 - accuracy: 0.9620\n",
            "Epoch 81/100\n",
            "983/983 [==============================] - 15s 15ms/step - loss: 0.1065 - accuracy: 0.9616\n",
            "Epoch 82/100\n",
            "983/983 [==============================] - 15s 15ms/step - loss: 0.1066 - accuracy: 0.9621\n",
            "Epoch 83/100\n",
            "983/983 [==============================] - 15s 15ms/step - loss: 0.1065 - accuracy: 0.9620\n",
            "Epoch 84/100\n",
            "983/983 [==============================] - 15s 15ms/step - loss: 0.1059 - accuracy: 0.9620\n",
            "Epoch 85/100\n",
            "983/983 [==============================] - 15s 15ms/step - loss: 0.1056 - accuracy: 0.9622\n",
            "Epoch 86/100\n",
            "983/983 [==============================] - 15s 15ms/step - loss: 0.1073 - accuracy: 0.9618\n",
            "Epoch 87/100\n",
            "983/983 [==============================] - 15s 15ms/step - loss: 0.1068 - accuracy: 0.9614\n",
            "Epoch 88/100\n",
            "983/983 [==============================] - 15s 15ms/step - loss: 0.1064 - accuracy: 0.9619\n",
            "Epoch 89/100\n",
            "983/983 [==============================] - 15s 15ms/step - loss: 0.1056 - accuracy: 0.9624\n",
            "Epoch 90/100\n",
            "983/983 [==============================] - 15s 15ms/step - loss: 0.1072 - accuracy: 0.9619\n",
            "Epoch 91/100\n",
            "983/983 [==============================] - 15s 15ms/step - loss: 0.1073 - accuracy: 0.9613\n",
            "Epoch 92/100\n",
            "983/983 [==============================] - 15s 15ms/step - loss: 0.1054 - accuracy: 0.9622\n",
            "Epoch 93/100\n",
            "983/983 [==============================] - 15s 15ms/step - loss: 0.1058 - accuracy: 0.9618\n",
            "Epoch 94/100\n",
            "983/983 [==============================] - 15s 15ms/step - loss: 0.1062 - accuracy: 0.9623\n",
            "Epoch 95/100\n",
            "983/983 [==============================] - 15s 15ms/step - loss: 0.1048 - accuracy: 0.9625\n",
            "Epoch 96/100\n",
            "983/983 [==============================] - 15s 15ms/step - loss: 0.1050 - accuracy: 0.9626\n",
            "Epoch 97/100\n",
            "983/983 [==============================] - 15s 15ms/step - loss: 0.1046 - accuracy: 0.9628\n",
            "Epoch 98/100\n",
            "983/983 [==============================] - 15s 15ms/step - loss: 0.1049 - accuracy: 0.9626\n",
            "Epoch 99/100\n",
            "983/983 [==============================] - 15s 15ms/step - loss: 0.1053 - accuracy: 0.9626\n",
            "Epoch 100/100\n",
            "983/983 [==============================] - 15s 15ms/step - loss: 0.1054 - accuracy: 0.9622\n"
          ]
        },
        {
          "output_type": "execute_result",
          "data": {
            "text/plain": [
              "<keras.callbacks.History at 0x7fd33f4b9990>"
            ]
          },
          "metadata": {},
          "execution_count": 24
        }
      ]
    },
    {
      "cell_type": "code",
      "source": [
        "tf.keras.utils.plot_model(model, 'my_first_model.png', show_shapes=True)"
      ],
      "metadata": {
        "colab": {
          "base_uri": "https://localhost:8080/",
          "height": 1000
        },
        "id": "26TLjUT8exaI",
        "outputId": "a49ad9c0-166c-43f6-a1c1-42125575385d"
      },
      "execution_count": null,
      "outputs": [
        {
          "output_type": "execute_result",
          "data": {
            "text/plain": [
              "<IPython.core.display.Image object>"
            ],
            "image/png": "[encoded data removed]"
          },
          "metadata": {},
          "execution_count": 25
        }
      ]
    },
    {
      "cell_type": "code",
      "source": [
        "pred = model.predict(x_test)\n",
        "y_pred= np.argmax(pred, axis = 1)"
      ],
      "metadata": {
        "id": "PW_FiqZHe4Eg"
      },
      "execution_count": null,
      "outputs": []
    },
    {
      "cell_type": "code",
      "source": [
        "from sklearn.metrics import confusion_matrix,accuracy_score\n",
        "from sklearn.metrics import (precision_score, recall_score,\n",
        "                             f1_score, accuracy_score,mean_squared_error,mean_absolute_error)"
      ],
      "metadata": {
        "id": "udHH20CRe96U"
      },
      "execution_count": null,
      "outputs": []
    },
    {
      "cell_type": "code",
      "source": [
        "confusion_matrix(Y_test, y_pred)"
      ],
      "metadata": {
        "colab": {
          "base_uri": "https://localhost:8080/"
        },
        "id": "3a7OyKNNfuvA",
        "outputId": "9f21c566-afee-49d7-b96b-00ac1272e365"
      },
      "execution_count": null,
      "outputs": [
        {
          "output_type": "execute_result",
          "data": {
            "text/plain": [
              "array([[8729,  982],\n",
              "       [3408, 9406]])"
            ]
          },
          "metadata": {},
          "execution_count": 28
        }
      ]
    },
    {
      "cell_type": "code",
      "source": [
        "accuracy =accuracy_score(Y_test, y_pred)*100\n",
        "print(accuracy)"
      ],
      "metadata": {
        "colab": {
          "base_uri": "https://localhost:8080/"
        },
        "id": "b4RH7NCAfzlW",
        "outputId": "e379cf53-61e4-4abe-b9f8-7a3c09193981"
      },
      "execution_count": null,
      "outputs": [
        {
          "output_type": "stream",
          "name": "stdout",
          "text": [
            "80.51054384017759\n"
          ]
        }
      ]
    },
    {
      "cell_type": "code",
      "source": [
        "print(y_pred)"
      ],
      "metadata": {
        "colab": {
          "base_uri": "https://localhost:8080/"
        },
        "id": "h20EHVlMgG0l",
        "outputId": "b6f764ae-d2d6-476d-bb76-82c5aaa72d98"
      },
      "execution_count": null,
      "outputs": [
        {
          "output_type": "stream",
          "name": "stdout",
          "text": [
            "[1 1 0 ... 1 0 1]\n"
          ]
        }
      ]
    },
    {
      "cell_type": "code",
      "source": [
        "y_pred.reshape"
      ],
      "metadata": {
        "colab": {
          "base_uri": "https://localhost:8080/"
        },
        "id": "BEzh6Jz4pScQ",
        "outputId": "0047e23d-eb5b-44fd-fa70-4aba67f54a78"
      },
      "execution_count": null,
      "outputs": [
        {
          "output_type": "execute_result",
          "data": {
            "text/plain": [
              "<function ndarray.reshape>"
            ]
          },
          "metadata": {},
          "execution_count": 37
        }
      ]
    },
    {
      "cell_type": "code",
      "source": [
        "print(y_21_test)"
      ],
      "metadata": {
        "colab": {
          "base_uri": "https://localhost:8080/"
        },
        "id": "bSvu-x_ugJwH",
        "outputId": "5a2936ea-6ce0-4d17-a54c-15a485ec4ffd"
      },
      "execution_count": null,
      "outputs": [
        {
          "output_type": "stream",
          "name": "stdout",
          "text": [
            "0        1\n",
            "1        1\n",
            "2        1\n",
            "3        0\n",
            "4        1\n",
            "        ..\n",
            "11845    0\n",
            "11846    0\n",
            "11847    1\n",
            "11848    1\n",
            "11849    1\n",
            "Name: label, Length: 11850, dtype: int64\n"
          ]
        }
      ]
    },
    {
      "cell_type": "code",
      "source": [
        "pred = model.predict(x_21_test)\n",
        "y_pred= np.argmax(pred, axis = 1)"
      ],
      "metadata": {
        "id": "NTOjJ1jNvDXa"
      },
      "execution_count": null,
      "outputs": []
    },
    {
      "cell_type": "code",
      "source": [
        "confusion_matrix(y_21_test, y_pred)"
      ],
      "metadata": {
        "colab": {
          "base_uri": "https://localhost:8080/"
        },
        "id": "1PDxXQy-vMhh",
        "outputId": "dc3777ac-e168-4a1a-9050-dd45fdcbfc1e"
      },
      "execution_count": null,
      "outputs": [
        {
          "output_type": "execute_result",
          "data": {
            "text/plain": [
              "array([[1209,  943],\n",
              "       [3408, 6290]])"
            ]
          },
          "metadata": {},
          "execution_count": 57
        }
      ]
    },
    {
      "cell_type": "code",
      "source": [
        "y_21_test.shape"
      ],
      "metadata": {
        "colab": {
          "base_uri": "https://localhost:8080/"
        },
        "id": "xxuINdeFhiM5",
        "outputId": "267bdf82-f9bc-4206-e7b1-9b77d7dcdde6"
      },
      "execution_count": null,
      "outputs": [
        {
          "output_type": "execute_result",
          "data": {
            "text/plain": [
              "(11850,)"
            ]
          },
          "metadata": {},
          "execution_count": 32
        }
      ]
    },
    {
      "cell_type": "code",
      "source": [
        "_y_pred.shape\n"
      ],
      "metadata": {
        "colab": {
          "base_uri": "https://localhost:8080/"
        },
        "id": "aP5kbVdphpHT",
        "outputId": "70fe830c-f95b-4c91-8366-aedd49d75b7a"
      },
      "execution_count": null,
      "outputs": [
        {
          "output_type": "execute_result",
          "data": {
            "text/plain": [
              "(22525,)"
            ]
          },
          "metadata": {},
          "execution_count": 38
        }
      ]
    },
    {
      "cell_type": "code",
      "source": [
        "print(y_pred)"
      ],
      "metadata": {
        "colab": {
          "base_uri": "https://localhost:8080/"
        },
        "id": "_s1SZrJevTtE",
        "outputId": "e5ad2de9-b389-4b23-97e9-9fa0b3da1481"
      },
      "execution_count": null,
      "outputs": [
        {
          "output_type": "stream",
          "name": "stdout",
          "text": [
            "[0 1 1 ... 1 1 1]\n"
          ]
        }
      ]
    },
    {
      "cell_type": "code",
      "source": [
        "acc_21 = accuracy_score(y_21_test, y_pred)* 100\n",
        "print(acc_21)"
      ],
      "metadata": {
        "colab": {
          "base_uri": "https://localhost:8080/"
        },
        "id": "f09E1OKbgOkw",
        "outputId": "367aed56-710f-473a-c9c1-56aaf8270300"
      },
      "execution_count": null,
      "outputs": [
        {
          "output_type": "stream",
          "name": "stdout",
          "text": [
            "63.28270042194093\n"
          ]
        }
      ]
    },
    {
      "cell_type": "code",
      "source": [
        "recall = recall_score(y_21_test, y_pred , average=\"binary\")\n",
        "precision = precision_score(y_21_test, y_pred , average=\"binary\")\n",
        "f1 = f1_score(y_21_test, y_pred, average=\"binary\")"
      ],
      "metadata": {
        "id": "N0aHEQ4Ojkf4"
      },
      "execution_count": null,
      "outputs": []
    },
    {
      "cell_type": "code",
      "source": [
        "print(\"accuracy\")\n",
        "print(\"%.3f\" %acc_21)\n",
        "print(\"racall\")\n",
        "print(\"%.3f\" %recall)\n",
        "print(\"precision\")\n",
        "print(\"%.3f\" %precision)\n",
        "print(\"f1score\")\n",
        "print(f1)"
      ],
      "metadata": {
        "colab": {
          "base_uri": "https://localhost:8080/"
        },
        "id": "2xqTGZZ4jvel",
        "outputId": "545367a0-feef-4281-d21c-c07bf7803818"
      },
      "execution_count": null,
      "outputs": [
        {
          "output_type": "stream",
          "name": "stdout",
          "text": [
            "accuracy\n",
            "63.283\n",
            "racall\n",
            "0.649\n",
            "precision\n",
            "0.870\n",
            "f1score\n",
            "0.7430157698895516\n"
          ]
        }
      ]
    },
    {
      "cell_type": "code",
      "source": [
        "print(\"F-Score : \", f1*100)\n",
        "print(\"Precision : \" , precision*100)\n",
        "print(\"Recall : \", recall*100)\n",
        "print(\"Accuracy : \",acc_21)"
      ],
      "metadata": {
        "colab": {
          "base_uri": "https://localhost:8080/"
        },
        "id": "4OgQAomwj88h",
        "outputId": "442994f7-1ae9-410c-da2c-107f1cdb67f4"
      },
      "execution_count": null,
      "outputs": [
        {
          "output_type": "stream",
          "name": "stdout",
          "text": [
            "F-Score :  74.30157698895516\n",
            "Precision :  86.96253283561455\n",
            "Recall :  64.85873375953804\n",
            "Accuracy :  63.28270042194093\n"
          ]
        }
      ]
    }
  ]
}